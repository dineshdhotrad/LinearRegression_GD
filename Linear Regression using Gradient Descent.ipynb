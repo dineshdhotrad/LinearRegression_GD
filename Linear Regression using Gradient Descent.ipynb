{
 "cells": [
  {
   "cell_type": "markdown",
   "metadata": {},
   "source": [
    "# Linear Regression using Gradient Descent"
   ]
  },
  {
   "cell_type": "markdown",
   "metadata": {},
   "source": [
    "### Importing Required Packages"
   ]
  },
  {
   "cell_type": "code",
   "execution_count": 1,
   "metadata": {},
   "outputs": [],
   "source": [
    "import numpy as np\n",
    "import matplotlib.pyplot as plt\n",
    "%matplotlib inline\n",
    "import csv"
   ]
  },
  {
   "cell_type": "markdown",
   "metadata": {},
   "source": [
    "### Reading Data from text file and placing it in an array"
   ]
  },
  {
   "cell_type": "code",
   "execution_count": 2,
   "metadata": {},
   "outputs": [],
   "source": [
    "x=[]\n",
    "y=[]\n",
    "with open('test1.txt') as csvfile:\n",
    "        reader = csv.reader(csvfile)\n",
    "        for row in reader:\n",
    "            xx = float(row[0])\n",
    "            yy = float(row[1])\n",
    "            p =[xx]\n",
    "            q =[yy]\n",
    "            x.append(p)\n",
    "            y.append(q)\n",
    "                        \n",
    "x=np.array(x)\n",
    "y=np.array(y)\n",
    "n = len(x)"
   ]
  },
  {
   "cell_type": "markdown",
   "metadata": {},
   "source": [
    "### Plot of Training Data "
   ]
  },
  {
   "cell_type": "code",
   "execution_count": 3,
   "metadata": {
    "scrolled": true
   },
   "outputs": [
    {
     "data": {
      "image/png": "[encoded data removed]",
      "text/plain": [
       "<Figure size 432x288 with 1 Axes>"
      ]
     },
     "metadata": {
      "needs_background": "light"
     },
     "output_type": "display_data"
    }
   ],
   "source": [
    "plt.scatter(x, y) \n",
    "plt.xlabel('x') \n",
    "plt.xlabel('y') \n",
    "plt.title(\"Training Data\") \n",
    "plt.show()"
   ]
  },
  {
   "cell_type": "markdown",
   "metadata": {},
   "source": [
    "#### Setting up Parameters "
   ]
  },
  {
   "cell_type": "code",
   "execution_count": 4,
   "metadata": {},
   "outputs": [],
   "source": [
    "T0 = np.random.randint(10)\n",
    "T1 = np.random.randint(10)\n",
    "\n",
    "learning_rate = 0.0001\n",
    "training_epochs = 1000"
   ]
  },
  {
   "cell_type": "markdown",
   "metadata": {},
   "source": [
    "#### Defining Hypotheses h(θ)"
   ]
  },
  {
   "cell_type": "code",
   "execution_count": 5,
   "metadata": {},
   "outputs": [],
   "source": [
    "def hypotheses(T0,T1,x):\n",
    "    hT_x = T0 + T1*x\n",
    "    return hT_x"
   ]
  },
  {
   "cell_type": "markdown",
   "metadata": {},
   "source": [
    "### Defining Loss Function"
   ]
  },
  {
   "cell_type": "code",
   "execution_count": 6,
   "metadata": {},
   "outputs": [],
   "source": [
    "def training_loss(X,Y,T0,T1,der):\n",
    "    sum_h = 0\n",
    "    if der==0:\n",
    "        for i in range(n):\n",
    "            sum_h += hypotheses(T0,T1,X[i]) - Y[i]\n",
    "    else:\n",
    "        for i in range(n):\n",
    "            sum_h += (hypotheses(T0,T1,X[i]) - Y[i])*X[i]\n",
    "    return sum_h"
   ]
  },
  {
   "cell_type": "markdown",
   "metadata": {},
   "source": [
    "### Training"
   ]
  },
  {
   "cell_type": "code",
   "execution_count": 7,
   "metadata": {
    "scrolled": true
   },
   "outputs": [
    {
     "name": "stdout",
     "output_type": "stream",
     "text": [
      "For Epoch : 0\tLoss : 8313.9974\tWeight : 2.5772\tbias =8.9917\n",
      "For Epoch : 50\tLoss : 3.6862\tWeight : 1.3033\tbias =8.9665\n",
      "For Epoch : 100\tLoss : 3.6805\tWeight : 1.3033\tbias =8.9663\n",
      "For Epoch : 150\tLoss : 3.6798\tWeight : 1.3033\tbias =8.9661\n",
      "For Epoch : 200\tLoss : 3.6791\tWeight : 1.3033\tbias =8.9659\n",
      "For Epoch : 250\tLoss : 3.6784\tWeight : 1.3033\tbias =8.9657\n",
      "For Epoch : 300\tLoss : 3.6777\tWeight : 1.3033\tbias =8.9655\n",
      "For Epoch : 350\tLoss : 3.6770\tWeight : 1.3033\tbias =8.9654\n",
      "For Epoch : 400\tLoss : 3.6763\tWeight : 1.3033\tbias =8.9652\n",
      "For Epoch : 450\tLoss : 3.6757\tWeight : 1.3033\tbias =8.9650\n",
      "For Epoch : 500\tLoss : 3.6750\tWeight : 1.3033\tbias =8.9648\n",
      "For Epoch : 550\tLoss : 3.6743\tWeight : 1.3033\tbias =8.9646\n",
      "For Epoch : 600\tLoss : 3.6736\tWeight : 1.3033\tbias =8.9644\n",
      "For Epoch : 650\tLoss : 3.6729\tWeight : 1.3033\tbias =8.9643\n",
      "For Epoch : 700\tLoss : 3.6722\tWeight : 1.3033\tbias =8.9641\n",
      "For Epoch : 750\tLoss : 3.6715\tWeight : 1.3033\tbias =8.9639\n",
      "For Epoch : 800\tLoss : 3.6708\tWeight : 1.3033\tbias =8.9637\n",
      "For Epoch : 850\tLoss : 3.6701\tWeight : 1.3033\tbias =8.9635\n",
      "For Epoch : 900\tLoss : 3.6694\tWeight : 1.3033\tbias =8.9633\n",
      "For Epoch : 950\tLoss : 3.6687\tWeight : 1.3033\tbias =8.9632\n",
      "Final Weight = [1.30332754] and bias = [8.96297603]\n"
     ]
    }
   ],
   "source": [
    "for epoch in range(training_epochs):\n",
    "    loss = training_loss(x,y,T0,T1,0)\n",
    "    loss_mul = training_loss(x,y,T0,T1,1)\n",
    "    _T0 = T0 - (learning_rate*loss)/n\n",
    "    _T1 = T1 - (learning_rate*loss_mul)/n\n",
    "    T0 = _T0\n",
    "    T1 = _T1\n",
    "    if epoch%50==0:\n",
    "        print(f\"For Epoch : {epoch}\\tLoss : {loss[0]:.4f}\\tWeight : {T1[0]:.4f}\\tbias ={T0[0]:.4f}\")\n",
    "predictions = T1 * x + T0 \n",
    "print(\"Final Weight =\", T1, \"and bias =\", T0)"
   ]
  },
  {
   "cell_type": "markdown",
   "metadata": {},
   "source": [
    "### Displaying The Results"
   ]
  },
  {
   "cell_type": "code",
   "execution_count": 8,
   "metadata": {},
   "outputs": [
    {
     "data": {
      "image/png": "[encoded data removed]",
      "text/plain": [
       "<Figure size 432x288 with 1 Axes>"
      ]
     },
     "metadata": {
      "needs_background": "light"
     },
     "output_type": "display_data"
    }
   ],
   "source": [
    "plt.plot(x, y, 'ro', label ='Original data') \n",
    "plt.plot(x, predictions, label ='Fitted line') \n",
    "plt.title('Linear Regression Result') \n",
    "plt.legend() \n",
    "plt.show() \n"
   ]
  },
  {
   "cell_type": "code",
   "execution_count": null,
   "metadata": {},
   "outputs": [],
   "source": []
  }
 ],
 "metadata": {
  "kernelspec": {
   "display_name": "Python 3",
   "language": "python",
   "name": "python3"
  },
  "language_info": {
   "codemirror_mode": {
    "name": "ipython",
    "version": 3
   },
   "file_extension": ".py",
   "mimetype": "text/x-python",
   "name": "python",
   "nbconvert_exporter": "python",
   "pygments_lexer": "ipython3",
   "version": "3.7.9"
  }
 },
 "nbformat": 4,
 "nbformat_minor": 4
}
