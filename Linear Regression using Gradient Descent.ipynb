{
 "cells": [
  {
   "cell_type": "markdown",
   "metadata": {},
   "source": [
    "# Linear Regression using Gradient Descent"
   ]
  },
  {
   "cell_type": "markdown",
   "metadata": {},
   "source": [
    "### Importing Required Packages"
   ]
  },
  {
   "cell_type": "code",
   "execution_count": 1,
   "metadata": {},
   "outputs": [],
   "source": [
    "import numpy as np\n",
    "import matplotlib.pyplot as plt\n",
    "%matplotlib inline\n",
    "import csv"
   ]
  },
  {
   "cell_type": "markdown",
   "metadata": {},
   "source": [
    "### Reading Data from text file and placing it in an array"
   ]
  },
  {
   "cell_type": "code",
   "execution_count": 2,
   "metadata": {},
   "outputs": [],
   "source": [
    "x=[]\n",
    "y=[]\n",
    "with open('test1.txt') as csvfile:\n",
    "        reader = csv.reader(csvfile)\n",
    "        for row in reader:\n",
    "            xx = float(row[0])\n",
    "            yy = float(row[1])\n",
    "            p =[xx]\n",
    "            q =[yy]\n",
    "            x.append(p)\n",
    "            y.append(q)\n",
    "                        \n",
    "x=np.array(x)\n",
    "y=np.array(y)\n",
    "n = len(x)"
   ]
  },
  {
   "cell_type": "markdown",
   "metadata": {},
   "source": [
    "### Plot of Training Data "
   ]
  },
  {
   "cell_type": "code",
   "execution_count": 3,
   "metadata": {
    "scrolled": true
   },
   "outputs": [
    {
     "data": {
      "image/png": "[encoded data removed]",
      "text/plain": [
       "<Figure size 432x288 with 1 Axes>"
      ]
     },
     "metadata": {
      "needs_background": "light"
     },
     "output_type": "display_data"
    }
   ],
   "source": [
    "plt.scatter(x, y) \n",
    "plt.xlabel('x') \n",
    "plt.xlabel('y') \n",
    "plt.title(\"Training Data\") \n",
    "plt.show()"
   ]
  },
  {
   "cell_type": "markdown",
   "metadata": {},
   "source": [
    "#### Setting up Parameters "
   ]
  },
  {
   "cell_type": "code",
   "execution_count": 10,
   "metadata": {},
   "outputs": [],
   "source": [
    "T0 = np.random.randint(10)\n",
    "T1 = np.random.randint(10)\n",
    "\n",
    "learning_rate = 0.00005\n",
    "training_epochs = 2000"
   ]
  },
  {
   "cell_type": "markdown",
   "metadata": {},
   "source": [
    "#### Defining Hypotheses h(θ)"
   ]
  },
  {
   "cell_type": "code",
   "execution_count": 11,
   "metadata": {},
   "outputs": [],
   "source": [
    "def hypotheses(T0,T1,x):\n",
    "    hT_x = T0 + T1*x\n",
    "    return hT_x"
   ]
  },
  {
   "cell_type": "markdown",
   "metadata": {},
   "source": [
    "### Defining Loss Function"
   ]
  },
  {
   "cell_type": "code",
   "execution_count": 12,
   "metadata": {},
   "outputs": [],
   "source": [
    "def training_loss(X,Y,T0,T1,der):\n",
    "    sum_h = 0\n",
    "    if der==0:\n",
    "        for i in range(n):\n",
    "            sum_h += hypotheses(T0,T1,X[i]) - Y[i]\n",
    "    else:\n",
    "        for i in range(n):\n",
    "            sum_h += (hypotheses(T0,T1,X[i]) - Y[i])*X[i]\n",
    "    return sum_h"
   ]
  },
  {
   "cell_type": "code",
   "execution_count": 13,
   "metadata": {},
   "outputs": [],
   "source": [
    "def compute_cost_function(n, T0, T1, X, Y):\n",
    "  return n/2 * sum([(T0 + T1*X[i] - Y[i])**2 for i in range(n)])"
   ]
  },
  {
   "cell_type": "markdown",
   "metadata": {},
   "source": [
    "### Training"
   ]
  },
  {
   "cell_type": "code",
   "execution_count": 14,
   "metadata": {
    "scrolled": true
   },
   "outputs": [
    {
     "name": "stdout",
     "output_type": "stream",
     "text": [
      "For Epoch : 0\tLoss : 4207492.2700\tWeight : 1.9229\tbias =4.9985\n",
      "For Epoch : 50\tLoss : 552995.1663\tWeight : 1.3822\tbias =4.9881\n",
      "For Epoch : 100\tLoss : 552988.7684\tWeight : 1.3814\tbias =4.9884\n",
      "For Epoch : 150\tLoss : 552988.4473\tWeight : 1.3814\tbias =4.9887\n",
      "For Epoch : 200\tLoss : 552988.1262\tWeight : 1.3814\tbias =4.9890\n",
      "For Epoch : 250\tLoss : 552987.8052\tWeight : 1.3814\tbias =4.9893\n",
      "For Epoch : 300\tLoss : 552987.4843\tWeight : 1.3814\tbias =4.9895\n",
      "For Epoch : 350\tLoss : 552987.1635\tWeight : 1.3814\tbias =4.9898\n",
      "For Epoch : 400\tLoss : 552986.8427\tWeight : 1.3814\tbias =4.9901\n",
      "For Epoch : 450\tLoss : 552986.5219\tWeight : 1.3814\tbias =4.9904\n",
      "For Epoch : 500\tLoss : 552986.2013\tWeight : 1.3814\tbias =4.9907\n",
      "For Epoch : 550\tLoss : 552985.8807\tWeight : 1.3814\tbias =4.9910\n",
      "For Epoch : 600\tLoss : 552985.5601\tWeight : 1.3814\tbias =4.9912\n",
      "For Epoch : 650\tLoss : 552985.2396\tWeight : 1.3814\tbias =4.9915\n",
      "For Epoch : 700\tLoss : 552984.9192\tWeight : 1.3814\tbias =4.9918\n",
      "For Epoch : 750\tLoss : 552984.5988\tWeight : 1.3814\tbias =4.9921\n",
      "For Epoch : 800\tLoss : 552984.2785\tWeight : 1.3814\tbias =4.9924\n",
      "For Epoch : 850\tLoss : 552983.9582\tWeight : 1.3814\tbias =4.9927\n",
      "For Epoch : 900\tLoss : 552983.6380\tWeight : 1.3814\tbias =4.9929\n",
      "For Epoch : 950\tLoss : 552983.3179\tWeight : 1.3814\tbias =4.9932\n",
      "For Epoch : 1000\tLoss : 552982.9978\tWeight : 1.3813\tbias =4.9935\n",
      "For Epoch : 1050\tLoss : 552982.6778\tWeight : 1.3813\tbias =4.9938\n",
      "For Epoch : 1100\tLoss : 552982.3579\tWeight : 1.3813\tbias =4.9941\n",
      "For Epoch : 1150\tLoss : 552982.0380\tWeight : 1.3813\tbias =4.9944\n",
      "For Epoch : 1200\tLoss : 552981.7182\tWeight : 1.3813\tbias =4.9946\n",
      "For Epoch : 1250\tLoss : 552981.3984\tWeight : 1.3813\tbias =4.9949\n",
      "For Epoch : 1300\tLoss : 552981.0787\tWeight : 1.3813\tbias =4.9952\n",
      "For Epoch : 1350\tLoss : 552980.7590\tWeight : 1.3813\tbias =4.9955\n",
      "For Epoch : 1400\tLoss : 552980.4395\tWeight : 1.3813\tbias =4.9958\n",
      "For Epoch : 1450\tLoss : 552980.1199\tWeight : 1.3813\tbias =4.9961\n",
      "For Epoch : 1500\tLoss : 552979.8005\tWeight : 1.3813\tbias =4.9963\n",
      "For Epoch : 1550\tLoss : 552979.4811\tWeight : 1.3813\tbias =4.9966\n",
      "For Epoch : 1600\tLoss : 552979.1617\tWeight : 1.3813\tbias =4.9969\n",
      "For Epoch : 1650\tLoss : 552978.8424\tWeight : 1.3813\tbias =4.9972\n",
      "For Epoch : 1700\tLoss : 552978.5232\tWeight : 1.3813\tbias =4.9975\n",
      "For Epoch : 1750\tLoss : 552978.2040\tWeight : 1.3813\tbias =4.9977\n",
      "For Epoch : 1800\tLoss : 552977.8849\tWeight : 1.3813\tbias =4.9980\n",
      "For Epoch : 1850\tLoss : 552977.5659\tWeight : 1.3813\tbias =4.9983\n",
      "For Epoch : 1900\tLoss : 552977.2469\tWeight : 1.3812\tbias =4.9986\n",
      "For Epoch : 1950\tLoss : 552976.9280\tWeight : 1.3812\tbias =4.9989\n",
      "Final Weight = [1.38123524] and bias = [4.999155]\n"
     ]
    }
   ],
   "source": [
    "J = compute_cost_function(n, T0, T1, x, y)\n",
    "for epoch in range(training_epochs):\n",
    "    grad0 = training_loss(x,y,T0,T1,0)\n",
    "    grad1 = training_loss(x,y,T0,T1,1)\n",
    "    _T0 = T0 - (learning_rate*grad0)/n\n",
    "    _T1 = T1 - (learning_rate*grad1)/n\n",
    "    T0 = _T0\n",
    "    T1 = _T1\n",
    "    J = compute_cost_function(n, T0, T1, x, y)\n",
    "    if epoch%50==0:\n",
    "        print(f\"For Epoch : {epoch}\\tLoss : {J[0]:.4f}\\tWeight : {T1[0]:.4f}\\tbias ={T0[0]:.4f}\")\n",
    "predictions = T1 * x + T0 \n",
    "print(\"Final Weight =\", T1, \"and bias =\", T0)"
   ]
  },
  {
   "cell_type": "markdown",
   "metadata": {},
   "source": [
    "### Displaying The Results"
   ]
  },
  {
   "cell_type": "code",
   "execution_count": 15,
   "metadata": {},
   "outputs": [
    {
     "data": {
      "image/png": "[encoded data removed]",
      "text/plain": [
       "<Figure size 432x288 with 1 Axes>"
      ]
     },
     "metadata": {
      "needs_background": "light"
     },
     "output_type": "display_data"
    }
   ],
   "source": [
    "plt.plot(x, y, 'ro', label ='Original data') \n",
    "plt.plot(x, predictions, label ='Fitted line') \n",
    "plt.title('Linear Regression Result') \n",
    "plt.legend() \n",
    "plt.show() \n"
   ]
  },
  {
   "cell_type": "code",
   "execution_count": null,
   "metadata": {},
   "outputs": [],
   "source": []
  }
 ],
 "metadata": {
  "kernelspec": {
   "display_name": "Python 3",
   "language": "python",
   "name": "python3"
  },
  "language_info": {
   "codemirror_mode": {
    "name": "ipython",
    "version": 3
   },
   "file_extension": ".py",
   "mimetype": "text/x-python",
   "name": "python",
   "nbconvert_exporter": "python",
   "pygments_lexer": "ipython3",
   "version": "3.7.9"
  }
 },
 "nbformat": 4,
 "nbformat_minor": 4
}
